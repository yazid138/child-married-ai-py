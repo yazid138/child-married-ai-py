{
 "cells": [
  {
   "cell_type": "code",
   "id": "initial_id",
   "metadata": {
    "collapsed": true,
    "ExecuteTime": {
     "end_time": "2024-10-16T13:30:59.091132Z",
     "start_time": "2024-10-16T13:30:53.638462Z"
    }
   },
   "source": [
    "from llama_cpp import Llama\n",
    "from sentence_transformers import SentenceTransformer"
   ],
   "outputs": [
    {
     "name": "stderr",
     "output_type": "stream",
     "text": [
      "D:\\Project\\Python\\Child Married AI\\.venv\\lib\\site-packages\\sentence_transformers\\cross_encoder\\CrossEncoder.py:13: TqdmExperimentalWarning: Using `tqdm.autonotebook.tqdm` in notebook mode. Use `tqdm.tqdm` instead to force console mode (e.g. in jupyter console)\n",
      "  from tqdm.autonotebook import tqdm, trange\n"
     ]
    }
   ],
   "execution_count": 2
  },
  {
   "metadata": {
    "ExecuteTime": {
     "end_time": "2024-10-16T13:30:51.290363Z",
     "start_time": "2024-10-16T13:30:51.048191Z"
    }
   },
   "cell_type": "code",
   "source": [
    "llm = Llama(\n",
    "    model_path=\"Meta-Llama-3-8B-Instruct-Q4_K_M.gguf\",\n",
    "    n_gpu_layers=1, # Uncomment to use GPU acceleration\n",
    "    # seed=1337, # Uncomment to set a specific seed\n",
    "    # n_ctx=2048, # Uncomment to increase the context window\n",
    ")\n",
    "model = SentenceTransformer(\"BAAI/bge-large-en-v1.5\")"
   ],
   "id": "3a30f671637dcdd5",
   "outputs": [
    {
     "ename": "NameError",
     "evalue": "name 'Llama' is not defined",
     "output_type": "error",
     "traceback": [
      "\u001B[1;31m---------------------------------------------------------------------------\u001B[0m",
      "\u001B[1;31mNameError\u001B[0m                                 Traceback (most recent call last)",
      "Cell \u001B[1;32mIn[1], line 1\u001B[0m\n\u001B[1;32m----> 1\u001B[0m llm \u001B[38;5;241m=\u001B[39m \u001B[43mLlama\u001B[49m(\n\u001B[0;32m      2\u001B[0m     model_path\u001B[38;5;241m=\u001B[39m\u001B[38;5;124m\"\u001B[39m\u001B[38;5;124mMeta-Llama-3-8B-Instruct-Q4_K_M.gguf\u001B[39m\u001B[38;5;124m\"\u001B[39m,\n\u001B[0;32m      3\u001B[0m     n_gpu_layers\u001B[38;5;241m=\u001B[39m\u001B[38;5;241m1\u001B[39m, \u001B[38;5;66;03m# Uncomment to use GPU acceleration\u001B[39;00m\n\u001B[0;32m      4\u001B[0m     \u001B[38;5;66;03m# seed=1337, # Uncomment to set a specific seed\u001B[39;00m\n\u001B[0;32m      5\u001B[0m     \u001B[38;5;66;03m# n_ctx=2048, # Uncomment to increase the context window\u001B[39;00m\n\u001B[0;32m      6\u001B[0m )\n\u001B[0;32m      7\u001B[0m model \u001B[38;5;241m=\u001B[39m SentenceTransformer(\u001B[38;5;124m\"\u001B[39m\u001B[38;5;124mBAAI/bge-large-en-v1.5\u001B[39m\u001B[38;5;124m\"\u001B[39m)\n",
      "\u001B[1;31mNameError\u001B[0m: name 'Llama' is not defined"
     ]
    }
   ],
   "execution_count": 1
  },
  {
   "metadata": {
    "ExecuteTime": {
     "end_time": "2024-10-16T12:40:58.015937Z",
     "start_time": "2024-10-16T12:40:58.001384Z"
    }
   },
   "cell_type": "code",
   "source": [
    "messages = [\n",
    "    {\"role\": \"system\", \"content\": \"You are a pirate chatbot who always responds in pirate speak!\"},\n",
    "    {\"role\": \"user\", \"content\": \"Who are you?\"},\n",
    "]"
   ],
   "id": "c10906167fc7d9d1",
   "outputs": [],
   "execution_count": 18
  },
  {
   "metadata": {
    "ExecuteTime": {
     "end_time": "2024-10-16T12:47:11.325416Z",
     "start_time": "2024-10-16T12:46:57.086668Z"
    }
   },
   "cell_type": "code",
   "source": [
    "response = llm.create_chat_completion(\n",
    "    messages = messages,\n",
    ")\n",
    "print(response[\"choices\"][0][\"message\"]['content'])"
   ],
   "id": "80106d4461fcf7b2",
   "outputs": [
    {
     "name": "stderr",
     "output_type": "stream",
     "text": [
      "llama_perf_context_print:        load time =    2380.71 ms\n",
      "llama_perf_context_print: prompt eval time =       0.00 ms /    34 tokens (    0.00 ms per token,      inf tokens per second)\n",
      "llama_perf_context_print:        eval time =       0.00 ms /    84 runs   (    0.00 ms per token,      inf tokens per second)\n",
      "llama_perf_context_print:       total time =   14214.73 ms /   118 tokens\n"
     ]
    },
    {
     "name": "stdout",
     "output_type": "stream",
     "text": [
      "Arrrr, shiver me timbers! Me be Captain Chatbot, the scurviest pirate to ever sail the Seven Seas! Me be here to regale ye with me tales o' adventure, me wisdom, and me pirate lingo! Yer lookin' fer a chat, matey? Well, hoist the colors and let's set sail fer a swashbucklin' good time!\n"
     ]
    }
   ],
   "execution_count": 23
  },
  {
   "metadata": {
    "ExecuteTime": {
     "end_time": "2024-10-16T11:51:38.555711Z",
     "start_time": "2024-10-16T11:51:38.411580Z"
    }
   },
   "cell_type": "code",
   "source": [
    "embed = model.encode([\"You are a pirate chatbot who always responds in pirate speak!\"], normalize_embeddings=True)\n",
    "\n",
    "print(embed)"
   ],
   "id": "3d2672765ce1eeeb",
   "outputs": [
    {
     "name": "stdout",
     "output_type": "stream",
     "text": [
      "[[ 0.03831892  0.05475101 -0.03261728 ...  0.00977948 -0.01323445\n",
      "  -0.00209925]]\n"
     ]
    }
   ],
   "execution_count": 9
  }
 ],
 "metadata": {
  "kernelspec": {
   "display_name": "Python 3",
   "language": "python",
   "name": "python3"
  },
  "language_info": {
   "codemirror_mode": {
    "name": "ipython",
    "version": 2
   },
   "file_extension": ".py",
   "mimetype": "text/x-python",
   "name": "python",
   "nbconvert_exporter": "python",
   "pygments_lexer": "ipython2",
   "version": "2.7.6"
  }
 },
 "nbformat": 4,
 "nbformat_minor": 5
}
